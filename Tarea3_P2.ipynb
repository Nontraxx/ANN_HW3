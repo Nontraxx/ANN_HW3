{
 "cells": [
  {
   "cell_type": "markdown",
   "metadata": {},
   "source": [
    "# Parte 2 - IMDB\n",
    "## A"
   ]
  },
  {
   "cell_type": "code",
   "execution_count": 1,
   "metadata": {
    "collapsed": false
   },
   "outputs": [],
   "source": [
    "import numpy as np\n",
    "import random\n",
    "from theano.tensor.shared_randomstreams import RandomStreams\n",
    "from keras.datasets import imdb\n",
    "from keras.preprocessing import sequence\n",
    "from keras.models import Sequential,load_model_model_model\n",
    "from keras.layers import Dense, LSTM, Dropout\n",
    "from keras.layers.embeddings import Embedding\n",
    "import matplotlib.pyplot as plt\n",
    "np.random.seed(3)\n",
    "srng = RandomStreams(8)"
   ]
  },
  {
   "cell_type": "code",
   "execution_count": 2,
   "metadata": {
    "collapsed": false
   },
   "outputs": [],
   "source": [
    "(X_train, y_train), (X_test, y_test) = imdb.load_data(seed=15)\n",
    "X = np.concatenate((X_train, X_test), axis=0)\n",
    "y = np.concatenate((y_train, y_test), axis=0)"
   ]
  },
  {
   "cell_type": "code",
   "execution_count": 3,
   "metadata": {
    "collapsed": false
   },
   "outputs": [
    {
     "name": "stdout",
     "output_type": "stream",
     "text": [
      "Review length: \n"
     ]
    },
    {
     "data": {
      "image/png": "[encoded data removed]",
      "text/plain": [
       "<matplotlib.figure.Figure at 0x7f066e67df90>"
      ]
     },
     "metadata": {},
     "output_type": "display_data"
    }
   ],
   "source": [
    "print(\"Review length: \")\n",
    "result = map(len, X)\n",
    "plt.boxplot(result)\n",
    "plt.show()"
   ]
  },
  {
   "cell_type": "code",
   "execution_count": 4,
   "metadata": {
    "collapsed": false
   },
   "outputs": [],
   "source": [
    "(X_train, y_train), (X_test, y_test) = imdb.load_data(nb_words=3000, seed=15)\n",
    "X_train = sequence.pad_sequences(X_train, maxlen=500)\n",
    "X_test = sequence.pad_sequences(X_test, maxlen=500)"
   ]
  },
  {
   "cell_type": "markdown",
   "metadata": {},
   "source": [
    "## D - Red LSTM con Embedding 32 y 3000 Top Words"
   ]
  },
  {
   "cell_type": "code",
   "execution_count": null,
   "metadata": {
    "collapsed": false
   },
   "outputs": [],
   "source": [
    "embedding_vector_length = 32\n",
    "top_words=3000\n",
    "model = Sequential()\n",
    "model.add(Embedding(top_words, embedding_vector_length, input_length=500))\n",
    "model.add(LSTM(100))\n",
    "model.add(Dense(1, activation='sigmoid'))\n",
    "model.compile(loss='binary_crossentropy', optimizer='adam', metrics=['accuracy'])\n",
    "model.fit(X_train, y_train, validation_data=(X_test, y_test), nb_epoch=3, batch_size=64)\n",
    "model.save(\"P2-D.h5\")"
   ]
  },
  {
   "cell_type": "code",
   "execution_count": 12,
   "metadata": {
    "collapsed": false
   },
   "outputs": [
    {
     "name": "stdout",
     "output_type": "stream",
     "text": [
      "25000/25000 [==============================] - 184s   \n",
      "Loss: 0.354214026219   Accuracy: 0.86204\n"
     ]
    }
   ],
   "source": [
    "#Eval Model P2D\n",
    "model=load_model(\"P2-D.h5\")\n",
    "scores = model.evaluate(X_test, y_test, verbose=1)\n",
    "print \"Loss: {0}   Accuracy: {1}\".format(scores[0],scores[1])"
   ]
  },
  {
   "cell_type": "markdown",
   "metadata": {},
   "source": [
    "## E - Red LSTM con 3000 Top Words y Embedding Variable"
   ]
  },
  {
   "cell_type": "code",
   "execution_count": null,
   "metadata": {
    "collapsed": false,
    "scrolled": false
   },
   "outputs": [],
   "source": [
    "top_words=3000\n",
    "for embedding_vector_length in [4,8,16,64,128,256]:\n",
    "    print \"EVL:\",embedding_vector_length\n",
    "    #train\n",
    "    model = Sequential()\n",
    "    model.add(Embedding(top_words, embedding_vector_length, input_length=500))\n",
    "    model.add(LSTM(100))\n",
    "    model.add(Dense(1, activation='sigmoid'))\n",
    "    model.compile(loss='binary_crossentropy', optimizer='adam', metrics=['accuracy'])\n",
    "    model.fit(X_train, y_train, validation_data=(X_test, y_test), nb_epoch=3, batch_size=64)\n",
    "    model.save(\"P2-E{0}.h5\".format(embedding_vector_length))\n",
    "    \n",
    "\n",
    "    #train"
   ]
  },
  {
   "cell_type": "code",
   "execution_count": 13,
   "metadata": {
    "collapsed": false
   },
   "outputs": [
    {
     "name": "stdout",
     "output_type": "stream",
     "text": [
      "25000/25000 [==============================] - 172s   \n",
      "Embedding Length: 4   Loss: 0.325102408178   Accuracy: 0.86124\n",
      "25000/25000 [==============================] - 183s   \n",
      "Embedding Length: 8   Loss: 0.308502162189   Accuracy: 0.8694\n",
      "25000/25000 [==============================] - 196s   \n",
      "Embedding Length: 16   Loss: 0.307057818151   Accuracy: 0.87236\n",
      "25000/25000 [==============================] - 209s   \n",
      "Embedding Length: 64   Loss: 0.484832670898   Accuracy: 0.76308\n",
      "25000/25000 [==============================] - 222s   \n",
      "Embedding Length: 128   Loss: 0.318453605099   Accuracy: 0.86652\n",
      "25000/25000 [==============================] - 206s   \n",
      "Embedding Length: 256   Loss: 0.377454812565   Accuracy: 0.84724\n"
     ]
    }
   ],
   "source": [
    "#Eval Model P2E-4-8-16-64-128-256\n",
    "for N in [4,8,16,64,128,256]:\n",
    "    model=load_model(\"P2-E{0}.h5\".format(N))\n",
    "    scores = model.evaluate(X_test, y_test, verbose=1)\n",
    "    print \"Embedding Length: {2}   Loss: {0}   Accuracy: {1}\".format(scores[0],scores[1],N)"
   ]
  },
  {
   "cell_type": "markdown",
   "metadata": {},
   "source": [
    "## F - Red LSTM con Embedding 32 y Top Words variables"
   ]
  },
  {
   "cell_type": "code",
   "execution_count": 10,
   "metadata": {
    "collapsed": false
   },
   "outputs": [
    {
     "name": "stdout",
     "output_type": "stream",
     "text": [
      "TW: 500\n",
      "Train on 25000 samples, validate on 25000 samples\n",
      "Epoch 1/3\n",
      "25000/25000 [==============================] - 494s - loss: 0.5697 - acc: 0.6998 - val_loss: 0.4147 - val_acc: 0.8151\n",
      "Epoch 2/3\n",
      "25000/25000 [==============================] - 488s - loss: 0.4535 - acc: 0.7954 - val_loss: 0.4149 - val_acc: 0.8145\n",
      "Epoch 3/3\n",
      "25000/25000 [==============================] - 489s - loss: 0.4037 - acc: 0.8238 - val_loss: 0.4795 - val_acc: 0.7692\n",
      "TW: 1000\n",
      "Train on 25000 samples, validate on 25000 samples\n",
      "Epoch 1/3\n",
      "25000/25000 [==============================] - 490s - loss: 0.5235 - acc: 0.7318 - val_loss: 0.4073 - val_acc: 0.8209\n",
      "Epoch 2/3\n",
      "25000/25000 [==============================] - 488s - loss: 0.3577 - acc: 0.8502 - val_loss: 0.3444 - val_acc: 0.8561\n",
      "Epoch 3/3\n",
      "25000/25000 [==============================] - 527s - loss: 0.3345 - acc: 0.8608 - val_loss: 0.3247 - val_acc: 0.8626\n",
      "TW: 2000\n",
      "Train on 25000 samples, validate on 25000 samples\n",
      "Epoch 1/3\n",
      "25000/25000 [==============================] - 831s - loss: 0.4942 - acc: 0.7553 - val_loss: 0.4036 - val_acc: 0.8266\n",
      "Epoch 2/3\n",
      "25000/25000 [==============================] - 483s - loss: 0.3824 - acc: 0.8276 - val_loss: 0.3149 - val_acc: 0.8667\n",
      "Epoch 3/3\n",
      "25000/25000 [==============================] - 483s - loss: 0.3052 - acc: 0.8736 - val_loss: 0.3197 - val_acc: 0.8634\n",
      "TW: 4000\n",
      "Train on 25000 samples, validate on 25000 samples\n",
      "Epoch 1/3\n",
      "25000/25000 [==============================] - 486s - loss: 0.5358 - acc: 0.7404 - val_loss: 0.3809 - val_acc: 0.8412\n",
      "Epoch 2/3\n",
      "25000/25000 [==============================] - 488s - loss: 0.3370 - acc: 0.8591 - val_loss: 0.3119 - val_acc: 0.8730\n",
      "Epoch 3/3\n",
      "25000/25000 [==============================] - 491s - loss: 0.3013 - acc: 0.8764 - val_loss: 0.3078 - val_acc: 0.8721\n",
      "TW: 5000\n",
      "Train on 25000 samples, validate on 25000 samples\n",
      "Epoch 1/3\n",
      "25000/25000 [==============================] - 493s - loss: 0.6458 - acc: 0.6284 - val_loss: 0.8642 - val_acc: 0.5179\n",
      "Epoch 2/3\n",
      "25000/25000 [==============================] - 519s - loss: 0.5395 - acc: 0.7272 - val_loss: 0.4593 - val_acc: 0.7968\n",
      "Epoch 3/3\n",
      "25000/25000 [==============================] - 509s - loss: 0.3963 - acc: 0.8261 - val_loss: 0.3647 - val_acc: 0.8485\n",
      "TW: 10000\n",
      "Train on 25000 samples, validate on 25000 samples\n",
      "Epoch 1/3\n",
      "25000/25000 [==============================] - 510s - loss: 0.5841 - acc: 0.6966 - val_loss: 0.4182 - val_acc: 0.8256\n",
      "Epoch 2/3\n",
      "25000/25000 [==============================] - 496s - loss: 0.3287 - acc: 0.8704 - val_loss: 0.3082 - val_acc: 0.8738\n",
      "Epoch 3/3\n",
      "25000/25000 [==============================] - 490s - loss: 0.2294 - acc: 0.9156 - val_loss: 0.4162 - val_acc: 0.8464\n"
     ]
    }
   ],
   "source": [
    "embedding_vector_length=32\n",
    "for top_words in [500,1000,2000,4000,5000,10000]:\n",
    "    (X_train, y_train), (X_test, y_test) = imdb.load_data(nb_words=top_words, seed=15)\n",
    "    X_train = sequence.pad_sequences(X_train, maxlen=500)\n",
    "    X_test = sequence.pad_sequences(X_test, maxlen=500)\n",
    "    print \"TW:\",top_words\n",
    "    model = Sequential()\n",
    "    model.add(Embedding(top_words, embedding_vector_length, input_length=500))\n",
    "    model.add(LSTM(100))\n",
    "    model.add(Dense(1, activation='sigmoid'))\n",
    "    model.compile(loss='binary_crossentropy', optimizer='adam', metrics=['accuracy'])\n",
    "    model.fit(X_train, y_train, validation_data=(X_test, y_test), nb_epoch=3, batch_size=64)\n",
    "    model.save(\"P2-F{0}.h5\".format(top_words))"
   ]
  },
  {
   "cell_type": "code",
   "execution_count": 15,
   "metadata": {
    "collapsed": false
   },
   "outputs": [
    {
     "name": "stdout",
     "output_type": "stream",
     "text": [
      "25000/25000 [==============================] - 199s   \n",
      "Top Words: 500   Loss: 0.479502602189   Accuracy: 0.7692\n",
      "25000/25000 [==============================] - 180s   \n",
      "Top Words: 1000   Loss: 0.324712305365   Accuracy: 0.86264\n",
      "25000/25000 [==============================] - 186s   \n",
      "Top Words: 2000   Loss: 0.319714357708   Accuracy: 0.86336\n",
      "25000/25000 [==============================] - 182s   \n",
      "Top Words: 4000   Loss: 0.307830250864   Accuracy: 0.87212\n",
      "25000/25000 [==============================] - 188s   \n",
      "Top Words: 5000   Loss: 0.36467007   Accuracy: 0.84852\n",
      "25000/25000 [==============================] - 197s   \n",
      "Top Words: 10000   Loss: 0.416235581527   Accuracy: 0.8464\n"
     ]
    }
   ],
   "source": [
    "#Eval Model P2F-500-1000-2000-5000-10000\n",
    "for N in [500,1000,2000,4000,5000,10000]:\n",
    "    (X_train, y_train), (X_test, y_test) = imdb.load_data(nb_words=N, seed=15)\n",
    "    X_train = sequence.pad_sequences(X_train, maxlen=500)\n",
    "    X_test = sequence.pad_sequences(X_test, maxlen=500)\n",
    "    model=load_model(\"P2-F{0}.h5\".format(N))\n",
    "    scores = model.evaluate(X_test, y_test, verbose=1)\n",
    "    print \"Top Words: {2}   Loss: {0}   Accuracy: {1}\".format(scores[0],scores[1],N)"
   ]
  },
  {
   "cell_type": "markdown",
   "metadata": {},
   "source": [
    "## G - Red LSTM + Dropout con Embedding  y Top Words variables"
   ]
  },
  {
   "cell_type": "code",
   "execution_count": 9,
   "metadata": {
    "collapsed": false
   },
   "outputs": [
    {
     "name": "stdout",
     "output_type": "stream",
     "text": [
      "Epoch 1/3\n",
      "25000/25000 [==============================] - 425s - loss: 0.5600 - acc: 0.7071   \n",
      "Epoch 2/3\n",
      "25000/25000 [==============================] - 447s - loss: 0.3785 - acc: 0.8459   \n",
      "Epoch 3/3\n",
      "25000/25000 [==============================] - 545s - loss: 0.3432 - acc: 0.8577   \n",
      "Epoch 1/3\n",
      "25000/25000 [==============================] - 500s - loss: 0.5417 - acc: 0.7129   \n",
      "Epoch 2/3\n",
      "25000/25000 [==============================] - 475s - loss: 0.3923 - acc: 0.8320   \n",
      "Epoch 3/3\n",
      "25000/25000 [==============================] - 520s - loss: 0.3355 - acc: 0.8610   \n",
      "Epoch 1/3\n",
      "25000/25000 [==============================] - 474s - loss: 0.4616 - acc: 0.7740   \n",
      "Epoch 2/3\n",
      "25000/25000 [==============================] - 490s - loss: 0.3020 - acc: 0.8790   \n",
      "Epoch 3/3\n",
      "25000/25000 [==============================] - 526s - loss: 0.2575 - acc: 0.8961   \n",
      "Epoch 1/3\n",
      "25000/25000 [==============================] - 510s - loss: 0.4821 - acc: 0.7656   \n",
      "Epoch 2/3\n",
      "25000/25000 [==============================] - 510s - loss: 0.3118 - acc: 0.8748   \n",
      "Epoch 3/3\n",
      "25000/25000 [==============================] - 528s - loss: 0.3185 - acc: 0.8662   \n"
     ]
    }
   ],
   "source": [
    "embedding_vector_length = 32\n",
    "top_words=3000\n",
    "\n",
    "for embedding_vector_length in [8,16,64,128]:\n",
    "    model = Sequential()\n",
    "    model.add(Embedding(top_words, embedding_vector_length, input_length=500))\n",
    "    model.add(Dropout(0.2))\n",
    "    model.add(LSTM(100))\n",
    "    model.add(Dropout(0.2))\n",
    "    model.add(Dense(1, activation='sigmoid'))\n",
    "    model.compile(loss='binary_crossentropy', optimizer='adam', metrics=['accuracy'])\n",
    "    #print(model.summary())\n",
    "    model.fit(X_train, y_train, nb_epoch=3, batch_size=64)\n",
    "    #scores = model.evaluate(X_test, y_test, verbose=1)\n",
    "    model.save(\"P2-G{0}-3000.h5\".format(embedding_vector_length))\n"
   ]
  },
  {
   "cell_type": "code",
   "execution_count": 17,
   "metadata": {
    "collapsed": false
   },
   "outputs": [
    {
     "name": "stdout",
     "output_type": "stream",
     "text": [
      "25000/25000 [==============================] - 200s   \n",
      "Embedding Length: 8   Loss: 0.324595310359   Accuracy: 0.867\n",
      "25000/25000 [==============================] - 183s   \n",
      "Embedding Length: 16   Loss: 0.414800869255   Accuracy: 0.84056\n",
      "25000/25000 [==============================] - 200s   \n",
      "Embedding Length: 64   Loss: 0.314571367285   Accuracy: 0.87568\n",
      "25000/25000 [==============================] - 190s   \n",
      "Embedding Length: 128   Loss: 0.332669987898   Accuracy: 0.87304\n"
     ]
    }
   ],
   "source": [
    "#Eval Model P2G-[8-16-64-128]-3000\n",
    "(X_train, y_train), (X_test, y_test) = imdb.load_data(nb_words=3000, seed=15)\n",
    "X_train = sequence.pad_sequences(X_train, maxlen=500)\n",
    "X_test = sequence.pad_sequences(X_test, maxlen=500)\n",
    "for N in [8,16,64,128]:\n",
    "    model=load_model(\"P2-G{0}-3000.h5\".format(N))\n",
    "    scores = model.evaluate(X_test, y_test, verbose=1)\n",
    "    print \"Embedding Length: {2}   Loss: {0}   Accuracy: {1}\".format(scores[0],scores[1],N)"
   ]
  },
  {
   "cell_type": "code",
   "execution_count": 10,
   "metadata": {
    "collapsed": false
   },
   "outputs": [
    {
     "name": "stdout",
     "output_type": "stream",
     "text": [
      "Epoch 1/3\n",
      "25000/25000 [==============================] - 447s - loss: 0.5641 - acc: 0.7095   \n",
      "Epoch 2/3\n",
      "25000/25000 [==============================] - 466s - loss: 0.4482 - acc: 0.8039   \n",
      "Epoch 3/3\n",
      "25000/25000 [==============================] - 475s - loss: 0.3940 - acc: 0.8355   \n",
      "Epoch 1/3\n",
      "25000/25000 [==============================] - 463s - loss: 0.5826 - acc: 0.6768   \n",
      "Epoch 2/3\n",
      "25000/25000 [==============================] - 457s - loss: 0.4192 - acc: 0.8139   \n",
      "Epoch 3/3\n",
      "25000/25000 [==============================] - 461s - loss: 0.3580 - acc: 0.8472   \n",
      "Epoch 1/3\n",
      "25000/25000 [==============================] - 427s - loss: 0.5282 - acc: 0.7272   \n",
      "Epoch 2/3\n",
      "25000/25000 [==============================] - 406s - loss: 0.3257 - acc: 0.8681   \n",
      "Epoch 3/3\n",
      "25000/25000 [==============================] - 401s - loss: 0.2785 - acc: 0.8884   \n",
      "Epoch 1/3\n",
      "25000/25000 [==============================] - 394s - loss: 0.6240 - acc: 0.6582   \n",
      "Epoch 2/3\n",
      "25000/25000 [==============================] - 387s - loss: 0.4201 - acc: 0.8134   \n",
      "Epoch 3/3\n",
      "25000/25000 [==============================] - 386s - loss: 0.3163 - acc: 0.8711   \n",
      "Epoch 1/3\n",
      "25000/25000 [==============================] - 379s - loss: 0.6440 - acc: 0.6027   \n",
      "Epoch 2/3\n",
      "25000/25000 [==============================] - 381s - loss: 0.3942 - acc: 0.8274   \n",
      "Epoch 3/3\n",
      "25000/25000 [==============================] - 379s - loss: 0.2903 - acc: 0.8826   \n"
     ]
    }
   ],
   "source": [
    "embedding_vector_length=32\n",
    "for top_words in [1000,2000,3000,4000,5000]:\n",
    "    (X_train, y_train), (X_test, y_test) = imdb.load_data(nb_words=top_words, seed=15)\n",
    "    X_train = sequence.pad_sequences(X_train, maxlen=500)\n",
    "    X_test = sequence.pad_sequences(X_test, maxlen=500)\n",
    "    model = Sequential()\n",
    "    model.add(Embedding(top_words, embedding_vector_length, input_length=500))\n",
    "    model.add(Dropout(0.2))\n",
    "    model.add(LSTM(100))\n",
    "    model.add(Dropout(0.2))\n",
    "    model.add(Dense(1, activation='sigmoid'))\n",
    "    model.compile(loss='binary_crossentropy', optimizer='adam', metrics=['accuracy'])\n",
    "    #print(model.summary())\n",
    "    model.fit(X_train, y_train, nb_epoch=3, batch_size=64)\n",
    "    #scores = model.evaluate(X_test, y_test, verbose=1)\n",
    "    model.save(\"P2-G32-{0}.h5\".format(top_words))"
   ]
  },
  {
   "cell_type": "code",
   "execution_count": 18,
   "metadata": {
    "collapsed": false
   },
   "outputs": [
    {
     "name": "stdout",
     "output_type": "stream",
     "text": [
      "25000/25000 [==============================] - 189s   \n",
      "Top Words: 1000   Loss: 0.400974370446   Accuracy: 0.83472\n",
      "25000/25000 [==============================] - 188s   \n",
      "Top Words: 2000   Loss: 0.337027104659   Accuracy: 0.8606\n",
      "25000/25000 [==============================] - 190s   \n",
      "Top Words: 3000   Loss: 0.309789932151   Accuracy: 0.86924\n",
      "25000/25000 [==============================] - 203s   \n",
      "Top Words: 4000   Loss: 0.321982482461   Accuracy: 0.86596\n",
      "25000/25000 [==============================] - 198s   \n",
      "Top Words: 5000   Loss: 0.335232408721   Accuracy: 0.85232\n"
     ]
    }
   ],
   "source": [
    "#Eval Model P2G-32-[500-1000-2000-5000-10000]\n",
    "\n",
    "for N in [1000,2000,3000,4000,5000]:\n",
    "    (X_train, y_train), (X_test, y_test) = imdb.load_data(nb_words=N, seed=15)\n",
    "    X_train = sequence.pad_sequences(X_train, maxlen=500)\n",
    "    X_test = sequence.pad_sequences(X_test, maxlen=500)\n",
    "    model=load_model(\"P2-G32-{0}.h5\".format(N))\n",
    "    scores = model.evaluate(X_test, y_test, verbose=1)\n",
    "    print \"Top Words: {2}   Loss: {0}   Accuracy: {1}\".format(scores[0],scores[1],N)"
   ]
  },
  {
   "cell_type": "markdown",
   "metadata": {},
   "source": []
  }
 ],
 "metadata": {
  "kernelspec": {
   "display_name": "Python 2",
   "language": "python",
   "name": "python2"
  },
  "language_info": {
   "codemirror_mode": {
    "name": "ipython",
    "version": 2
   },
   "file_extension": ".py",
   "mimetype": "text/x-python",
   "name": "python",
   "nbconvert_exporter": "python",
   "pygments_lexer": "ipython2",
   "version": "2.7.12"
  }
 },
 "nbformat": 4,
 "nbformat_minor": 1
}
